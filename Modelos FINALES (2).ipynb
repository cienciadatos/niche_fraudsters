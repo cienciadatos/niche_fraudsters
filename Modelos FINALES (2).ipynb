{
 "cells": [
  {
   "cell_type": "code",
   "execution_count": 1,
   "id": "2WHv5foHqpnh",
   "metadata": {
    "colab": {
     "base_uri": "https://localhost:8080/"
    },
    "id": "2WHv5foHqpnh",
    "outputId": "395a9efe-196e-4c2f-bd18-c8fbd30af96f"
   },
   "outputs": [
    {
     "name": "stdout",
     "output_type": "stream",
     "text": [
      "Mounted at /content/drive\n"
     ]
    }
   ],
   "source": [
    "from google.colab import drive\n",
    "drive.mount('/content/drive')"
   ]
  },
  {
   "cell_type": "markdown",
   "id": "UjFvdd2N7WLA",
   "metadata": {
    "id": "UjFvdd2N7WLA"
   },
   "source": [
    "## Importar Librerías"
   ]
  },
  {
   "cell_type": "code",
   "execution_count": 25,
   "id": "d1977cc0",
   "metadata": {
    "id": "d1977cc0"
   },
   "outputs": [],
   "source": [
    "# Librerías Básicas\n",
    "# ====================================================\n",
    "import pandas as pd\n",
    "import numpy as np\n",
    "import matplotlib.pyplot as plt\n",
    "\n",
    "# Redes Neuronales\n",
    "# ====================================================\n",
    "import tensorflow as ts\n",
    "from keras.models import Model, load_model\n",
    "from keras.layers import Input, Dense\n",
    "from keras.optimizers import SGD, Adam, Adadelta\n",
    "from keras import backend as K\n",
    "from keras.losses import binary_crossentropy\n",
    "from keras.metrics import binary_accuracy\n",
    "\n",
    "# Métricas y Preprocesado\n",
    "# ====================================================\n",
    "from sklearn.model_selection import train_test_split\n",
    "from sklearn.metrics import confusion_matrix, precision_recall_curve\n",
    "from sklearn.metrics import classification_report, average_precision_score\n",
    "from sklearn.preprocessing import StandardScaler\n",
    "from sklearn.metrics import ConfusionMatrixDisplay\n",
    "from scipy.stats import norm\n",
    "\n",
    "# Eliminar warnings\n",
    "# ====================================================\n",
    "import warnings\n",
    "warnings.filterwarnings('ignore')"
   ]
  },
  {
   "cell_type": "markdown",
   "id": "x3u_U25c7YuY",
   "metadata": {
    "id": "x3u_U25c7YuY"
   },
   "source": [
    "## Cargar Datos\n",
    "\n",
    "Cargamos datos desde el repositorio de git y lo descomprimimos"
   ]
  },
  {
   "cell_type": "code",
   "execution_count": 3,
   "id": "ccf8fed2",
   "metadata": {
    "colab": {
     "base_uri": "https://localhost:8080/"
    },
    "id": "ccf8fed2",
    "outputId": "cf9dc110-3c32-4ec2-c126-3746226cc28f"
   },
   "outputs": [
    {
     "name": "stdout",
     "output_type": "stream",
     "text": [
      "Cloning into 'niche_fraudsters'...\n",
      "remote: Enumerating objects: 43, done.\u001b[K\n",
      "remote: Counting objects: 100% (43/43), done.\u001b[K\n",
      "remote: Compressing objects: 100% (36/36), done.\u001b[K\n",
      "remote: Total 43 (delta 15), reused 31 (delta 6), pack-reused 0\u001b[K\n",
      "Unpacking objects: 100% (43/43), 14.45 MiB | 8.52 MiB/s, done.\n",
      "Archive:  /content/niche_fraudsters/df_final.zip\n",
      "  inflating: df_final_test.csv       \n",
      "  inflating: df_final_train.csv      \n"
     ]
    }
   ],
   "source": [
    "!git clone \"https://github.com/cienciadatos/niche_fraudsters.git\"\n",
    "!unzip \"/content/niche_fraudsters/df_final.zip\""
   ]
  },
  {
   "cell_type": "code",
   "execution_count": 4,
   "id": "50348dcc",
   "metadata": {
    "id": "50348dcc"
   },
   "outputs": [],
   "source": [
    "DF_FINAL_TRAIN = \"/content/df_final_train.csv\"\n",
    "DF_FINAL_TEST  = \"/content/df_final_test.csv\""
   ]
  },
  {
   "cell_type": "markdown",
   "id": "czwyYPBUEiQs",
   "metadata": {
    "id": "czwyYPBUEiQs"
   },
   "source": [
    "## Funciones Auxiliares"
   ]
  },
  {
   "cell_type": "code",
   "execution_count": 5,
   "id": "z03OvGAhGTJU",
   "metadata": {
    "id": "z03OvGAhGTJU"
   },
   "outputs": [],
   "source": [
    "df_final_train = pd.read_csv(DF_FINAL_TRAIN)\n",
    "df_final_test = pd.read_csv(DF_FINAL_TEST)"
   ]
  },
  {
   "cell_type": "code",
   "execution_count": 6,
   "id": "QAwjY8gWGjui",
   "metadata": {
    "colab": {
     "base_uri": "https://localhost:8080/"
    },
    "id": "QAwjY8gWGjui",
    "outputId": "d51671ad-a884-4daf-fb54-35d9cc68cd12"
   },
   "outputs": [
    {
     "data": {
      "text/plain": [
       "((92790, 16), (23198, 15))"
      ]
     },
     "execution_count": 6,
     "metadata": {},
     "output_type": "execute_result"
    }
   ],
   "source": [
    "df_final_train.shape, df_final_test.shape"
   ]
  },
  {
   "cell_type": "code",
   "execution_count": 75,
   "id": "7EpymV9X5Hhq",
   "metadata": {
    "id": "7EpymV9X5Hhq"
   },
   "outputs": [],
   "source": [
    "def make_pipeline(df):\n",
    "    df_autoenc = df.set_index('id')\n",
    "    std_scaler = StandardScaler()\n",
    "    df_autoenc_ss = std_scaler.fit_transform(df_autoenc.iloc[:,:-1].to_numpy())\n",
    "    df_autoenc_ss = pd.DataFrame(df_autoenc_ss, columns=df_autoenc.iloc[:,:-1].columns, index=df_autoenc.index)\n",
    "    df_autoenc = pd.concat([df_autoenc_ss,df_autoenc.iloc[:,-1]],axis=1)\n",
    "    return df_autoenc\n",
    "\n",
    "def print_metrics(Y_test,Y_pred):\n",
    "    \"\"\"Imprime métricas básicas de la clasificación.\n",
    "    \"\"\"\n",
    "    metricas = classification_report(Y_test,Y_pred)\n",
    "    print(metricas)\n",
    "\n",
    "def print_conf_matrix(Y_test,Y_pred,labels=[0,1]):\n",
    "    \"\"\"Plotea la matriz de confusión de la clasificación.\n",
    "    \"\"\"\n",
    "    cm = confusion_matrix(Y_test, Y_pred, labels=labels)\n",
    "    disp = ConfusionMatrixDisplay(confusion_matrix=cm, \n",
    "                                  display_labels=['0','1'])\n",
    "    disp.plot(cmap=plt.cm.Blues, ax=plt.subplots()[1])\n",
    "    plt.title('Matriz de Confusión')\n",
    "    plt.show();\n",
    "\n",
    "\n",
    "def pr_auc_score(y_true, y_pred_proba, X_test, modelo, version):\n",
    "    '''Return the area under the Precision-Recall curve.\n",
    "    Args:\n",
    "        - y_true (pd.DataFrame): Dataframe with a unique identifier for \n",
    "        each observation (first column) and the ground truth observations (second column).\n",
    "        - y_pred_proba (pd.DataFrame): Dataframe with a unique identifier \n",
    "        for each observation (first column) and the predicted probabilities \n",
    "        estimates for the minority class (second column).\n",
    "    Returns:float'''\n",
    "    y_true = pd.DataFrame(y_true).reset_index()\n",
    "    y_pred_proba = pd.DataFrame(y_pred_proba, index=X_test.index).reset_index()\n",
    "    y_true_sorted = y_true.sort_values('id')\n",
    "    y_pred_proba_sorted = y_pred_proba.sort_values('id')\n",
    "    y_true_sorted = y_true_sorted.reset_index(drop=True)\n",
    "    y_pred_proba_sorted = y_pred_proba_sorted.reset_index(drop=True)\n",
    "    pr_auc_score = average_precision_score(np.ravel(y_true_sorted.iloc[:, 1]), \n",
    "                                           np.ravel(y_pred_proba_sorted.iloc[:, 1]))\n",
    "    data = [(modelo, version),('PR AUC',pr_auc_score)]\n",
    "    model_summary = pd.DataFrame(data, columns=['param','selected'])\n",
    "    print(model_summary)\n",
    "\n",
    "def calc_reconstruction_error(X_train, X_pred, X_test, X_pred_te):\n",
    "    \"\"\"Obtiene el error de reconstrucción ponderado por los valores de entrenamiento.\n",
    "    \"\"\"\n",
    "    mse_tr = np.mean(np.power(X_train - X_pred, 2), axis=1)\n",
    "    min_mse = min(mse_tr)\n",
    "    max_mse = max(mse_tr)\n",
    "    \n",
    "    mse = np.mean(np.power(X_test - X_pred_te, 2), axis=1)\n",
    "    mse = (mse-min_mse) / max_mse\n",
    "    print(mse)\n",
    "    \n",
    "    mse = [1 if e > 1 else e for e in mse]\n",
    "    print(mse)\n",
    "    return mse\n",
    "\n",
    "def print_reconstruction_error(mse, Y_test, threshold):\n",
    "    \"\"\"Plotea el error de reconstrucción para las dos clases.\n",
    "    \"\"\"\n",
    "    error_df = pd.DataFrame({'reconstruction_error': mse, 'true_class': Y_test})\n",
    "    \n",
    "    groups = error_df.groupby('true_class')\n",
    "    fig, ax = plt.subplots()\n",
    "\n",
    "    for name, group in groups:\n",
    "        ax.plot(group.index, group.reconstruction_error, marker='o', ms=3.5, linestyle='', \n",
    "                label= \"Fraud\" if name == 1 else \"Normal\", alpha = 0.9 if name == 1 else 0.1)\n",
    "    ax.hlines(threshold, ax.get_xlim()[0], ax.get_xlim()[1], colors=\"r\", zorder=100, label='Threshold')\n",
    "    ax.legend()\n",
    "    plt.title(\"Reconstruction error for different classes\")\n",
    "    plt.ylabel(\"Reconstruction error\")\n",
    "    plt.xlabel(\"Data point index\")\n",
    "    plt.show();\n",
    "    \n",
    "def pr_auc_score_autoenc(Y_test, mse, X_test, modelo, version):\n",
    "    \"\"\"Prepara los datos pasa simular prauc con una medida sintetica\"\"\"\n",
    "    #print(Y_test)\n",
    "    \n",
    "    ytrue = pd.Series(Y_test)    \n",
    "    \n",
    "    proba = pd.DataFrame(mse)\n",
    "    proba['id'] = Y_test.index\n",
    "    \n",
    "    xtest = pd.DataFrame(X_test)\n",
    "    \n",
    "    return pr_auc_score(ytrue, proba, xtest, modelo, version)\n",
    "\n",
    "def recons_error(X_test, X_pred_te):\n",
    "    mse = np.mean(np.power(X_test - X_pred_te, 2), axis=1)\n",
    "    return mse\n",
    "\n",
    "def recons_euc_error(X_test, X_pred_te):\n",
    "    euclidean_error = np.linalg.norm(X_test - X_pred_te, axis=1)\n",
    "    return euclidean_error\n",
    "\n",
    "def recons_bce_error(X_test, X_pred_te):\n",
    "    loss_te = ts.keras.losses.binary_crossentropy(X_test,X_pred_te)\n",
    "    loss_te = loss_te.numpy()\n",
    "    return loss_te\n",
    "\n",
    "def probs_clases(rec_error):\n",
    "    mu = np.mean(rec_error)\n",
    "    sigma = np.std(rec_error)\n",
    "    pdf_values = norm.pdf(rec_error, mu, sigma)\n",
    "    prob_no_fraud = pdf_values / np.sum(pdf_values)\n",
    "    prob_fraud = 1 - prob_no_fraud\n",
    "    probs = np.vstack((prob_no_fraud, prob_fraud)).T\n",
    "    return probs\n",
    "\n",
    "def sacar_pr_auc_mse(X_test,X_pred_te,Y_test,modelo,version):\n",
    "    mse = recons_error(X_test, X_pred_te)\n",
    "    probabs = probs_clases(mse)\n",
    "    pr_auc_score_autoenc(Y_test, probabs, X_test, modelo, version)\n",
    "\n",
    "def sacar_pr_auc_euc(X_test,X_pred_te,Y_test,modelo,version):\n",
    "    euc = recons_euc_error(X_test, X_pred_te)\n",
    "    probabs = probs_clases(euc)\n",
    "    pr_auc_score_autoenc(Y_test, probabs, X_test, modelo, version)\n",
    "\n",
    "def sacar_pr_auc_bse(X_test,X_pred_te,Y_test,modelo,version):\n",
    "    bse = recons_bce_error(X_test, X_pred_te)\n",
    "    probabs = probs_clases(bse)\n",
    "    pr_auc_score_autoenc(Y_test, probabs, X_test, modelo, version)\n",
    "\n",
    "def out_challenge(X_test, X_pred_te):\n",
    "    euc = recons_euc_error(X_test, X_pred_te)\n",
    "    probabs = probs_clases(euc)\n",
    "\n",
    "def generate_output(X_pred_te, X_test, index_x_test, nombre_version):\n",
    "    euc = recons_euc_error(X_test, X_pred_te)\n",
    "    probabs = probs_clases(euc)\n",
    "    prob_positiva = probabs[:,1]\n",
    "    print(prob_positiva)\n",
    "    output = pd.DataFrame({\n",
    "            \"index\"      : [x for x in range(len(X_test))],\n",
    "            \"ID\"         : index_x_test,\n",
    "            \"fraud_flag\" : prob_positiva\n",
    "    })\n",
    "    print(output.head())\n",
    "    output.to_csv(nombre_version + '.csv',sep=\",\", index=False)"
   ]
  },
  {
   "cell_type": "code",
   "execution_count": 42,
   "id": "Ln0PZlXMGv7x",
   "metadata": {
    "id": "Ln0PZlXMGv7x"
   },
   "outputs": [],
   "source": [
    "# FUNCIONES PARA AUTOENCODER\n",
    "\n",
    "def print_distribucion_loss(loss):\n",
    "    \"\"\"Calcula distintos puntos de la distribución de loss y \n",
    "    los imprime por pantalla.\n",
    "    \"\"\"\n",
    "    print(np.round(np.quantile(loss,0.25),4))\n",
    "    print(np.round(np.quantile(loss,0.5),4))\n",
    "    print(np.round(np.quantile(loss,0.75),4))\n",
    "    print(np.round(np.quantile(loss,0.90),5))\n",
    "    print(np.round(np.quantile(loss,0.95),5))\n",
    "    print(np.round(np.quantile(loss,0.99),5))\n",
    "    print(max(np.round(loss,5)))\n",
    "\n",
    "def print_boxplot_loss(loss):\n",
    "    \"\"\"Plotea un boxplot de la distribución de losses.\n",
    "    \"\"\"\n",
    "    pd.DataFrame(loss).boxplot()\n",
    "\n",
    "def top_losses(loss, top=10):\n",
    "    \"\"\"Saca los losses más elevados.\n",
    "    \"\"\"\n",
    "    lista_losses = sorted([x for x in loss],reverse=True)\n",
    "    print(lista_losses[:top])\n",
    "\n",
    "def set_threshold(loss, maxim=True, quant=0.95):\n",
    "    # ESTABLECER THRESHOLD DE CLASIFICACIÓN\n",
    "    # =====================================\n",
    "    # En un autoencoder entrenado con transacciones normales, se produce cierta\n",
    "    # pérdida o error. El error o pérdida máximo es el umbral del fraude. Así, todos\n",
    "    # los que queden por encima serán fraude (1) y todos los que queden por debajo\n",
    "    # serán no fraude (0).\n",
    "    if not maxim:\n",
    "        return np.quantile(loss,quant)\n",
    "    return max(loss)\n",
    "        \n",
    "def apply_threshold(threshold, loss_te):\n",
    "    \"\"\"Aplica el threshold al conjunto de test en base al loss\n",
    "    calculado previamente. Devuelve un array de 0s y 1s.\n",
    "    \"\"\"\n",
    "    return np.array([1 if x > threshold else 0 for x in loss_te])"
   ]
  },
  {
   "cell_type": "code",
   "execution_count": 8,
   "id": "tJqgHJfNqrPH",
   "metadata": {
    "id": "tJqgHJfNqrPH"
   },
   "outputs": [],
   "source": [
    "df_autoenc = make_pipeline(df_final_train)"
   ]
  },
  {
   "cell_type": "code",
   "execution_count": 9,
   "id": "dc554bf6",
   "metadata": {
    "id": "dc554bf6"
   },
   "outputs": [],
   "source": [
    "# CONSTRUCCIÓN DE DATOS DE TRAIN Y TEST\n",
    "# =====================================\n",
    "np.random.seed(5)\n",
    "X_train, X_test = train_test_split(df_autoenc, \n",
    "                                   test_size=0.3, \n",
    "                                   random_state=42)"
   ]
  },
  {
   "cell_type": "code",
   "execution_count": 10,
   "id": "JUS9rGH67Oho",
   "metadata": {
    "id": "JUS9rGH67Oho"
   },
   "outputs": [],
   "source": [
    "index_x_train = X_train.index\n",
    "index_x_test = X_test.index"
   ]
  },
  {
   "cell_type": "code",
   "execution_count": 11,
   "id": "5dG_hTCs6n1U",
   "metadata": {
    "id": "5dG_hTCs6n1U"
   },
   "outputs": [],
   "source": [
    "# Train => solo los que no son fraude\n",
    "# No necesita usar Y_train, ya que los datos no necesitan ir etiquetados.\n",
    "# Seleccionamos los fraude=0 y luego eliminamos la columna objetivo.\n",
    "X_train = X_train[X_train['fraud_flag'] == 0]\n",
    "X_train = X_train.drop(['fraud_flag'], axis=1)\n",
    "X_train = X_train.values\n",
    "\n",
    "# Test => todos\n",
    "Y_test = X_test['fraud_flag']\n",
    "X_test = X_test.drop(['fraud_flag'], axis=1)\n",
    "X_test = X_test.values"
   ]
  },
  {
   "cell_type": "code",
   "execution_count": 12,
   "id": "b924fc86",
   "metadata": {
    "colab": {
     "base_uri": "https://localhost:8080/"
    },
    "id": "b924fc86",
    "outputId": "280171b2-5807-42e9-dace-5b04d88d77b4"
   },
   "outputs": [
    {
     "data": {
      "text/plain": [
       "14"
      ]
     },
     "execution_count": 12,
     "metadata": {},
     "output_type": "execute_result"
    }
   ],
   "source": [
    "# CREAMOS LA CAPA DE ENTRADA\n",
    "# =============================\n",
    "dim_entrada = X_train.shape[1]\n",
    "capa_entrada = Input(shape=(dim_entrada,)) # objeto keras_tensor\n",
    "dim_entrada"
   ]
  },
  {
   "cell_type": "code",
   "execution_count": 13,
   "id": "cd4c0b17",
   "metadata": {
    "id": "cd4c0b17"
   },
   "outputs": [],
   "source": [
    "# CREAMOS EL ENCODER\n",
    "# ==================\n",
    "encoder = Dense(10,activation=\"tanh\")(capa_entrada)\n",
    "encoder = Dense(7,activation=\"tanh\")(encoder)\n",
    "encoder = Dense(5,activation=\"tanh\")(encoder)\n",
    "encoder = Dense(4,activation=\"relu\")(encoder)"
   ]
  },
  {
   "cell_type": "code",
   "execution_count": 14,
   "id": "d418930e",
   "metadata": {
    "id": "d418930e"
   },
   "outputs": [],
   "source": [
    "# CREAMOS EL DECODER\n",
    "# ==================\n",
    "decoder = Dense(5,activation=\"tanh\")(encoder)\n",
    "decoder = Dense(7,activation=\"tanh\")(decoder)\n",
    "decoder = Dense(10,activation=\"tanh\")(decoder)\n",
    "decoder = Dense(14,activation=\"sigmoid\")(decoder)"
   ]
  },
  {
   "cell_type": "code",
   "execution_count": 15,
   "id": "pi14rKUssLCI",
   "metadata": {
    "id": "pi14rKUssLCI"
   },
   "outputs": [],
   "source": [
    "# CREAMOS EL AUTOENCODER\n",
    "# =============================\n",
    "autoencoder = Model(inputs=capa_entrada, outputs=decoder)"
   ]
  },
  {
   "cell_type": "code",
   "execution_count": 18,
   "id": "rc0doithsK_g",
   "metadata": {
    "id": "rc0doithsK_g"
   },
   "outputs": [],
   "source": [
    "# CREAMOS LOS SOLVERS Y LOSS FUNCTIONS\n",
    "# ====================================\n",
    "# COMPILA EL AUTOENCODER CON DESCENSO DE GRADIENTE CON ALPHA 0.01 Y LOSS RMSE\n",
    "sgd = SGD(lr=0.01)\n",
    "#adam = Adam(lr=0.01)\n",
    "autoencoder.compile(optimizer=sgd, loss=\"mse\")"
   ]
  },
  {
   "cell_type": "code",
   "execution_count": 19,
   "id": "YFpZXuQrsK7k",
   "metadata": {
    "colab": {
     "base_uri": "https://localhost:8080/"
    },
    "id": "YFpZXuQrsK7k",
    "outputId": "15b902e3-da89-4d68-c5f0-f32736363d80"
   },
   "outputs": [
    {
     "name": "stdout",
     "output_type": "stream",
     "text": [
      "Epoch 1/100\n",
      "1001/1001 [==============================] - 5s 4ms/step - loss: 1.1644 - val_loss: 1.1334\n",
      "Epoch 2/100\n",
      "1001/1001 [==============================] - 2s 2ms/step - loss: 1.0702 - val_loss: 1.0700\n",
      "Epoch 3/100\n",
      "1001/1001 [==============================] - 2s 2ms/step - loss: 1.0198 - val_loss: 1.0184\n",
      "Epoch 4/100\n",
      "1001/1001 [==============================] - 2s 2ms/step - loss: 0.9684 - val_loss: 0.9782\n",
      "Epoch 5/100\n",
      "1001/1001 [==============================] - 2s 2ms/step - loss: 0.9411 - val_loss: 0.9592\n",
      "Epoch 6/100\n",
      "1001/1001 [==============================] - 4s 4ms/step - loss: 0.9262 - val_loss: 0.9474\n",
      "Epoch 7/100\n",
      "1001/1001 [==============================] - 2s 2ms/step - loss: 0.9169 - val_loss: 0.9394\n",
      "Epoch 8/100\n",
      "1001/1001 [==============================] - 2s 2ms/step - loss: 0.9101 - val_loss: 0.9333\n",
      "Epoch 9/100\n",
      "1001/1001 [==============================] - 2s 2ms/step - loss: 0.9047 - val_loss: 0.9283\n",
      "Epoch 10/100\n",
      "1001/1001 [==============================] - 2s 2ms/step - loss: 0.9001 - val_loss: 0.9239\n",
      "Epoch 11/100\n",
      "1001/1001 [==============================] - 3s 3ms/step - loss: 0.8960 - val_loss: 0.9199\n",
      "Epoch 12/100\n",
      "1001/1001 [==============================] - 3s 3ms/step - loss: 0.8921 - val_loss: 0.9160\n",
      "Epoch 13/100\n",
      "1001/1001 [==============================] - 2s 2ms/step - loss: 0.8882 - val_loss: 0.9121\n",
      "Epoch 14/100\n",
      "1001/1001 [==============================] - 2s 2ms/step - loss: 0.8843 - val_loss: 0.9080\n",
      "Epoch 15/100\n",
      "1001/1001 [==============================] - 3s 3ms/step - loss: 0.8801 - val_loss: 0.9038\n",
      "Epoch 16/100\n",
      "1001/1001 [==============================] - 3s 3ms/step - loss: 0.8757 - val_loss: 0.8992\n",
      "Epoch 17/100\n",
      "1001/1001 [==============================] - 4s 4ms/step - loss: 0.8708 - val_loss: 0.8938\n",
      "Epoch 18/100\n",
      "1001/1001 [==============================] - 3s 3ms/step - loss: 0.8648 - val_loss: 0.8873\n",
      "Epoch 19/100\n",
      "1001/1001 [==============================] - 3s 3ms/step - loss: 0.8579 - val_loss: 0.8804\n",
      "Epoch 20/100\n",
      "1001/1001 [==============================] - 2s 2ms/step - loss: 0.8516 - val_loss: 0.8747\n",
      "Epoch 21/100\n",
      "1001/1001 [==============================] - 3s 3ms/step - loss: 0.8465 - val_loss: 0.8701\n",
      "Epoch 22/100\n",
      "1001/1001 [==============================] - 3s 3ms/step - loss: 0.8423 - val_loss: 0.8663\n",
      "Epoch 23/100\n",
      "1001/1001 [==============================] - 2s 2ms/step - loss: 0.8387 - val_loss: 0.8630\n",
      "Epoch 24/100\n",
      "1001/1001 [==============================] - 2s 2ms/step - loss: 0.8356 - val_loss: 0.8601\n",
      "Epoch 25/100\n",
      "1001/1001 [==============================] - 2s 2ms/step - loss: 0.8329 - val_loss: 0.8575\n",
      "Epoch 26/100\n",
      "1001/1001 [==============================] - 2s 2ms/step - loss: 0.8305 - val_loss: 0.8552\n",
      "Epoch 27/100\n",
      "1001/1001 [==============================] - 4s 4ms/step - loss: 0.8282 - val_loss: 0.8531\n",
      "Epoch 28/100\n",
      "1001/1001 [==============================] - 4s 4ms/step - loss: 0.8262 - val_loss: 0.8511\n",
      "Epoch 29/100\n",
      "1001/1001 [==============================] - 2s 2ms/step - loss: 0.8243 - val_loss: 0.8493\n",
      "Epoch 30/100\n",
      "1001/1001 [==============================] - 4s 4ms/step - loss: 0.8224 - val_loss: 0.8474\n",
      "Epoch 31/100\n",
      "1001/1001 [==============================] - 3s 3ms/step - loss: 0.8205 - val_loss: 0.8455\n",
      "Epoch 32/100\n",
      "1001/1001 [==============================] - 3s 3ms/step - loss: 0.8187 - val_loss: 0.8438\n",
      "Epoch 33/100\n",
      "1001/1001 [==============================] - 2s 2ms/step - loss: 0.8169 - val_loss: 0.8420\n",
      "Epoch 34/100\n",
      "1001/1001 [==============================] - 4s 4ms/step - loss: 0.8150 - val_loss: 0.8402\n",
      "Epoch 35/100\n",
      "1001/1001 [==============================] - 2s 2ms/step - loss: 0.8132 - val_loss: 0.8384\n",
      "Epoch 36/100\n",
      "1001/1001 [==============================] - 3s 3ms/step - loss: 0.8114 - val_loss: 0.8367\n",
      "Epoch 37/100\n",
      "1001/1001 [==============================] - 3s 3ms/step - loss: 0.8096 - val_loss: 0.8350\n",
      "Epoch 38/100\n",
      "1001/1001 [==============================] - 2s 2ms/step - loss: 0.8080 - val_loss: 0.8335\n",
      "Epoch 39/100\n",
      "1001/1001 [==============================] - 2s 2ms/step - loss: 0.8065 - val_loss: 0.8321\n",
      "Epoch 40/100\n",
      "1001/1001 [==============================] - 2s 2ms/step - loss: 0.8051 - val_loss: 0.8307\n",
      "Epoch 41/100\n",
      "1001/1001 [==============================] - 2s 2ms/step - loss: 0.8038 - val_loss: 0.8295\n",
      "Epoch 42/100\n",
      "1001/1001 [==============================] - 3s 3ms/step - loss: 0.8026 - val_loss: 0.8284\n",
      "Epoch 43/100\n",
      "1001/1001 [==============================] - 3s 3ms/step - loss: 0.8014 - val_loss: 0.8273\n",
      "Epoch 44/100\n",
      "1001/1001 [==============================] - 2s 2ms/step - loss: 0.8004 - val_loss: 0.8262\n",
      "Epoch 45/100\n",
      "1001/1001 [==============================] - 2s 2ms/step - loss: 0.7994 - val_loss: 0.8253\n",
      "Epoch 46/100\n",
      "1001/1001 [==============================] - 2s 2ms/step - loss: 0.7984 - val_loss: 0.8244\n",
      "Epoch 47/100\n",
      "1001/1001 [==============================] - 2s 2ms/step - loss: 0.7975 - val_loss: 0.8236\n",
      "Epoch 48/100\n",
      "1001/1001 [==============================] - 3s 3ms/step - loss: 0.7967 - val_loss: 0.8227\n",
      "Epoch 49/100\n",
      "1001/1001 [==============================] - 3s 3ms/step - loss: 0.7958 - val_loss: 0.8220\n",
      "Epoch 50/100\n",
      "1001/1001 [==============================] - 2s 2ms/step - loss: 0.7951 - val_loss: 0.8212\n",
      "Epoch 51/100\n",
      "1001/1001 [==============================] - 2s 2ms/step - loss: 0.7943 - val_loss: 0.8206\n",
      "Epoch 52/100\n",
      "1001/1001 [==============================] - 2s 2ms/step - loss: 0.7936 - val_loss: 0.8199\n",
      "Epoch 53/100\n",
      "1001/1001 [==============================] - 3s 3ms/step - loss: 0.7930 - val_loss: 0.8193\n",
      "Epoch 54/100\n",
      "1001/1001 [==============================] - 4s 4ms/step - loss: 0.7923 - val_loss: 0.8186\n",
      "Epoch 55/100\n",
      "1001/1001 [==============================] - 2s 2ms/step - loss: 0.7917 - val_loss: 0.8180\n",
      "Epoch 56/100\n",
      "1001/1001 [==============================] - 2s 2ms/step - loss: 0.7911 - val_loss: 0.8174\n",
      "Epoch 57/100\n",
      "1001/1001 [==============================] - 2s 2ms/step - loss: 0.7905 - val_loss: 0.8168\n",
      "Epoch 58/100\n",
      "1001/1001 [==============================] - 2s 2ms/step - loss: 0.7898 - val_loss: 0.8161\n",
      "Epoch 59/100\n",
      "1001/1001 [==============================] - 4s 4ms/step - loss: 0.7892 - val_loss: 0.8156\n",
      "Epoch 60/100\n",
      "1001/1001 [==============================] - 2s 2ms/step - loss: 0.7886 - val_loss: 0.8150\n",
      "Epoch 61/100\n",
      "1001/1001 [==============================] - 2s 2ms/step - loss: 0.7881 - val_loss: 0.8144\n",
      "Epoch 62/100\n",
      "1001/1001 [==============================] - 2s 2ms/step - loss: 0.7875 - val_loss: 0.8138\n",
      "Epoch 63/100\n",
      "1001/1001 [==============================] - 2s 2ms/step - loss: 0.7868 - val_loss: 0.8131\n",
      "Epoch 64/100\n",
      "1001/1001 [==============================] - 3s 3ms/step - loss: 0.7859 - val_loss: 0.8117\n",
      "Epoch 65/100\n",
      "1001/1001 [==============================] - 3s 3ms/step - loss: 0.7834 - val_loss: 0.8082\n",
      "Epoch 66/100\n",
      "1001/1001 [==============================] - 2s 2ms/step - loss: 0.7807 - val_loss: 0.8071\n",
      "Epoch 67/100\n",
      "1001/1001 [==============================] - 2s 2ms/step - loss: 0.7798 - val_loss: 0.8063\n",
      "Epoch 68/100\n",
      "1001/1001 [==============================] - 2s 2ms/step - loss: 0.7790 - val_loss: 0.8056\n",
      "Epoch 69/100\n",
      "1001/1001 [==============================] - 2s 2ms/step - loss: 0.7782 - val_loss: 0.8049\n",
      "Epoch 70/100\n",
      "1001/1001 [==============================] - 4s 4ms/step - loss: 0.7776 - val_loss: 0.8043\n",
      "Epoch 71/100\n",
      "1001/1001 [==============================] - 3s 3ms/step - loss: 0.7770 - val_loss: 0.8038\n",
      "Epoch 72/100\n",
      "1001/1001 [==============================] - 2s 2ms/step - loss: 0.7765 - val_loss: 0.8033\n",
      "Epoch 73/100\n",
      "1001/1001 [==============================] - 2s 2ms/step - loss: 0.7760 - val_loss: 0.8028\n",
      "Epoch 74/100\n",
      "1001/1001 [==============================] - 2s 2ms/step - loss: 0.7755 - val_loss: 0.8023\n",
      "Epoch 75/100\n",
      "1001/1001 [==============================] - 3s 3ms/step - loss: 0.7750 - val_loss: 0.8019\n",
      "Epoch 76/100\n",
      "1001/1001 [==============================] - 4s 4ms/step - loss: 0.7746 - val_loss: 0.8015\n",
      "Epoch 77/100\n",
      "1001/1001 [==============================] - 2s 2ms/step - loss: 0.7741 - val_loss: 0.8011\n",
      "Epoch 78/100\n",
      "1001/1001 [==============================] - 2s 2ms/step - loss: 0.7737 - val_loss: 0.8008\n",
      "Epoch 79/100\n",
      "1001/1001 [==============================] - 2s 2ms/step - loss: 0.7733 - val_loss: 0.8005\n",
      "Epoch 80/100\n",
      "1001/1001 [==============================] - 2s 2ms/step - loss: 0.7730 - val_loss: 0.8001\n",
      "Epoch 81/100\n",
      "1001/1001 [==============================] - 4s 4ms/step - loss: 0.7726 - val_loss: 0.7998\n",
      "Epoch 82/100\n",
      "1001/1001 [==============================] - 3s 3ms/step - loss: 0.7723 - val_loss: 0.7995\n",
      "Epoch 83/100\n",
      "1001/1001 [==============================] - 2s 2ms/step - loss: 0.7719 - val_loss: 0.7993\n",
      "Epoch 84/100\n",
      "1001/1001 [==============================] - 2s 2ms/step - loss: 0.7716 - val_loss: 0.7990\n",
      "Epoch 85/100\n",
      "1001/1001 [==============================] - 2s 2ms/step - loss: 0.7713 - val_loss: 0.7987\n",
      "Epoch 86/100\n",
      "1001/1001 [==============================] - 3s 3ms/step - loss: 0.7710 - val_loss: 0.7984\n",
      "Epoch 87/100\n",
      "1001/1001 [==============================] - 3s 3ms/step - loss: 0.7707 - val_loss: 0.7981\n",
      "Epoch 88/100\n",
      "1001/1001 [==============================] - 2s 2ms/step - loss: 0.7704 - val_loss: 0.7979\n",
      "Epoch 89/100\n",
      "1001/1001 [==============================] - 2s 2ms/step - loss: 0.7702 - val_loss: 0.7976\n",
      "Epoch 90/100\n",
      "1001/1001 [==============================] - 2s 2ms/step - loss: 0.7699 - val_loss: 0.7974\n",
      "Epoch 91/100\n",
      "1001/1001 [==============================] - 2s 2ms/step - loss: 0.7696 - val_loss: 0.7971\n",
      "Epoch 92/100\n",
      "1001/1001 [==============================] - 4s 4ms/step - loss: 0.7694 - val_loss: 0.7969\n",
      "Epoch 93/100\n",
      "1001/1001 [==============================] - 2s 2ms/step - loss: 0.7692 - val_loss: 0.7966\n",
      "Epoch 94/100\n",
      "1001/1001 [==============================] - 2s 2ms/step - loss: 0.7689 - val_loss: 0.7964\n",
      "Epoch 95/100\n",
      "1001/1001 [==============================] - 2s 2ms/step - loss: 0.7687 - val_loss: 0.7962\n",
      "Epoch 96/100\n",
      "1001/1001 [==============================] - 2s 2ms/step - loss: 0.7685 - val_loss: 0.7959\n",
      "Epoch 97/100\n",
      "1001/1001 [==============================] - 3s 3ms/step - loss: 0.7683 - val_loss: 0.7957\n",
      "Epoch 98/100\n",
      "1001/1001 [==============================] - 3s 3ms/step - loss: 0.7681 - val_loss: 0.7955\n",
      "Epoch 99/100\n",
      "1001/1001 [==============================] - 2s 2ms/step - loss: 0.7678 - val_loss: 0.7953\n",
      "Epoch 100/100\n",
      "1001/1001 [==============================] - 2s 2ms/step - loss: 0.7676 - val_loss: 0.7951\n"
     ]
    }
   ],
   "source": [
    "# ENTRENAMIENTO DEL AUTOENCODER\n",
    "# =============================\n",
    "nits = 100     # número de iteraciones (epochs)\n",
    "tam_lote = 64  # tamaño de cada lote (batch_size)\n",
    "# X_train es dato de entrada y de salida porque se trata de un autoencoder\n",
    "history = autoencoder.fit(X_train,\n",
    "                X_train, \n",
    "                epochs=nits,\n",
    "                shuffle=True, \n",
    "                batch_size=tam_lote,\n",
    "                validation_data=(X_test, X_test),\n",
    "                verbose=1)"
   ]
  },
  {
   "cell_type": "code",
   "execution_count": 20,
   "id": "nuk8Bj0F7L73",
   "metadata": {
    "colab": {
     "base_uri": "https://localhost:8080/",
     "height": 472
    },
    "id": "nuk8Bj0F7L73",
    "outputId": "ba68c630-0f9d-40f7-d22d-2e761c598cad"
   },
   "outputs": [
    {
     "data": {
      "image/png": "[encoded data removed]",
      "text/plain": [
       "<Figure size 640x480 with 1 Axes>"
      ]
     },
     "metadata": {},
     "output_type": "display_data"
    }
   ],
   "source": [
    "plt.plot(history.history['loss'])\n",
    "plt.plot(history.history['val_loss'])\n",
    "plt.title('Model loss')\n",
    "plt.ylabel('Loss')\n",
    "plt.xlabel('Epoch')\n",
    "plt.legend(['Train', 'Validation'], loc='upper right')\n",
    "plt.show()"
   ]
  },
  {
   "cell_type": "code",
   "execution_count": 21,
   "id": "xv199cjY3-HA",
   "metadata": {
    "colab": {
     "base_uri": "https://localhost:8080/"
    },
    "id": "xv199cjY3-HA",
    "outputId": "da2c5c50-ccbc-419a-bfd8-acad3cd958af"
   },
   "outputs": [
    {
     "name": "stdout",
     "output_type": "stream",
     "text": [
      "2002/2002 [==============================] - 3s 1ms/step\n"
     ]
    }
   ],
   "source": [
    "X_pred = autoencoder.predict(X_train)"
   ]
  },
  {
   "cell_type": "code",
   "execution_count": 22,
   "id": "VmQ_ebBdGkrY",
   "metadata": {
    "colab": {
     "base_uri": "https://localhost:8080/"
    },
    "id": "VmQ_ebBdGkrY",
    "outputId": "6a6e3465-f1db-4596-e9ae-c73b19097181"
   },
   "outputs": [
    {
     "name": "stdout",
     "output_type": "stream",
     "text": [
      "870/870 [==============================] - 2s 2ms/step\n"
     ]
    },
    {
     "data": {
      "text/plain": [
       "(27837, 14)"
      ]
     },
     "execution_count": 22,
     "metadata": {},
     "output_type": "execute_result"
    }
   ],
   "source": [
    "X_pred_te = autoencoder.predict(X_test)\n",
    "ecm = np.mean(np.power(X_test-X_pred_te,2),axis=1)\n",
    "X_pred_te.shape"
   ]
  },
  {
   "cell_type": "code",
   "execution_count": 26,
   "id": "8D0wsQlD4xHS",
   "metadata": {
    "colab": {
     "base_uri": "https://localhost:8080/"
    },
    "id": "8D0wsQlD4xHS",
    "outputId": "4f24f059-3f52-4159-ccc1-1e102888fb2e"
   },
   "outputs": [
    {
     "name": "stdout",
     "output_type": "stream",
     "text": [
      "         param   selected\n",
      "0  autoencoder  final MSE\n",
      "1       PR AUC   0.010908\n",
      "         param   selected\n",
      "0  autoencoder  final EUC\n",
      "1       PR AUC   0.013121\n"
     ]
    }
   ],
   "source": [
    "sacar_pr_auc_mse(X_test,X_pred_te,Y_test,\"autoencoder\",\"final MSE\")\n",
    "sacar_pr_auc_euc(X_test,X_pred_te,Y_test,\"autoencoder\",\"final EUC\")"
   ]
  },
  {
   "cell_type": "code",
   "execution_count": 27,
   "id": "Ox1JJg22GkqX",
   "metadata": {
    "id": "Ox1JJg22GkqX"
   },
   "outputs": [],
   "source": [
    "prec, recall, umbral = precision_recall_curve(Y_test, ecm)"
   ]
  },
  {
   "cell_type": "code",
   "execution_count": 28,
   "id": "pzEwAa6gGkoK",
   "metadata": {
    "colab": {
     "base_uri": "https://localhost:8080/"
    },
    "id": "pzEwAa6gGkoK",
    "outputId": "6fcb6605-7950-4dbe-dee9-db266cb13028"
   },
   "outputs": [
    {
     "data": {
      "text/plain": [
       "((7725,), (7725,), (7724,))"
      ]
     },
     "execution_count": 28,
     "metadata": {},
     "output_type": "execute_result"
    }
   ],
   "source": [
    "prec.shape, recall.shape, umbral.shape"
   ]
  },
  {
   "cell_type": "code",
   "execution_count": 29,
   "id": "OiAhTDlcGkld",
   "metadata": {
    "id": "OiAhTDlcGkld"
   },
   "outputs": [],
   "source": [
    "prec, recall = prec[1:], recall[1:]"
   ]
  },
  {
   "cell_type": "code",
   "execution_count": 30,
   "id": "Pr9ZoWO_Gkhd",
   "metadata": {
    "colab": {
     "base_uri": "https://localhost:8080/",
     "height": 430
    },
    "id": "Pr9ZoWO_Gkhd",
    "outputId": "e9a755a9-053a-4afe-f1b7-4945fc8d7fd0"
   },
   "outputs": [
    {
     "data": {
      "image/png": "[encoded data removed]",
      "text/plain": [
       "<Figure size 640x480 with 1 Axes>"
      ]
     },
     "metadata": {},
     "output_type": "display_data"
    }
   ],
   "source": [
    "plt.plot(umbral, prec)\n",
    "plt.plot(umbral, recall)\n",
    "#plt.xlim(0,50)\n",
    "plt.show()"
   ]
  },
  {
   "cell_type": "code",
   "execution_count": 49,
   "id": "7can1AfyGkgf",
   "metadata": {
    "id": "7can1AfyGkgf"
   },
   "outputs": [],
   "source": [
    "umbral_fijo = 0.7\n",
    "Y_pred = [1 if e > umbral_fijo else 0 for e in ecm]"
   ]
  },
  {
   "cell_type": "code",
   "execution_count": 50,
   "id": "3Z8Yo9-9Gkdn",
   "metadata": {
    "colab": {
     "base_uri": "https://localhost:8080/",
     "height": 632
    },
    "id": "3Z8Yo9-9Gkdn",
    "outputId": "351a5ce8-5403-4cc3-93ca-d973982bf7ac"
   },
   "outputs": [
    {
     "name": "stdout",
     "output_type": "stream",
     "text": [
      "              precision    recall  f1-score   support\n",
      "\n",
      "           0       0.98      0.72      0.83     27434\n",
      "           1       0.01      0.13      0.01       403\n",
      "\n",
      "    accuracy                           0.71     27837\n",
      "   macro avg       0.49      0.42      0.42     27837\n",
      "weighted avg       0.97      0.71      0.82     27837\n",
      "\n"
     ]
    },
    {
     "data": {
      "image/png": "[encoded data removed]",
      "text/plain": [
       "<Figure size 640x480 with 2 Axes>"
      ]
     },
     "metadata": {},
     "output_type": "display_data"
    }
   ],
   "source": [
    "print_metrics(Y_test,Y_pred)\n",
    "print_conf_matrix(Y_test,Y_pred)"
   ]
  },
  {
   "cell_type": "markdown",
   "id": "VbJve9DwZF-I",
   "metadata": {
    "id": "VbJve9DwZF-I"
   },
   "source": [
    "## Etiquetado para el Challenge"
   ]
  },
  {
   "cell_type": "code",
   "execution_count": 61,
   "id": "iibjLK6tZAmz",
   "metadata": {
    "id": "iibjLK6tZAmz"
   },
   "outputs": [],
   "source": [
    "df_autoenc_tr = make_pipeline(df_final_train)\n",
    "df_autoenc_te = make_pipeline(df_final_test)"
   ]
  },
  {
   "cell_type": "code",
   "execution_count": 65,
   "id": "vCbDNviAZAm9",
   "metadata": {
    "id": "vCbDNviAZAm9"
   },
   "outputs": [],
   "source": [
    "# CONSTRUCCIÓN DE DATOS DE TRAIN Y TEST\n",
    "# =====================================\n",
    "np.random.seed(6)\n",
    "X_train, X_test = df_autoenc_tr, df_autoenc_te"
   ]
  },
  {
   "cell_type": "code",
   "execution_count": 63,
   "id": "UrnJxgEYZAm-",
   "metadata": {
    "id": "UrnJxgEYZAm-"
   },
   "outputs": [],
   "source": [
    "index_x_train = X_train.index\n",
    "index_x_test = X_test.index"
   ]
  },
  {
   "cell_type": "code",
   "execution_count": 66,
   "id": "sGRqg3RYZAm-",
   "metadata": {
    "id": "sGRqg3RYZAm-"
   },
   "outputs": [],
   "source": [
    "# Train => solo los que no son fraude\n",
    "# No necesita usar Y_train, ya que los datos no necesitan ir etiquetados.\n",
    "# Seleccionamos los fraude=0 y luego eliminamos la columna objetivo.\n",
    "X_train = X_train[X_train['fraud_flag'] == 0]\n",
    "Y_train = X_train['fraud_flag']\n",
    "X_train = X_train.drop(['fraud_flag'], axis=1)\n",
    "X_train = X_train.values\n",
    "\n",
    "# Test => todos\n",
    "X_test = X_test.values"
   ]
  },
  {
   "cell_type": "code",
   "execution_count": 67,
   "id": "CGptxQkDZAm-",
   "metadata": {
    "colab": {
     "base_uri": "https://localhost:8080/"
    },
    "id": "CGptxQkDZAm-",
    "outputId": "a4a46bd4-a130-41b5-daf8-aae7b7f54024"
   },
   "outputs": [
    {
     "data": {
      "text/plain": [
       "14"
      ]
     },
     "execution_count": 67,
     "metadata": {},
     "output_type": "execute_result"
    }
   ],
   "source": [
    "# CREAMOS LA CAPA DE ENTRADA\n",
    "# =============================\n",
    "dim_entrada = X_train.shape[1]\n",
    "capa_entrada = Input(shape=(dim_entrada,)) # objeto keras_tensor\n",
    "dim_entrada"
   ]
  },
  {
   "cell_type": "code",
   "execution_count": 68,
   "id": "LxAtuESoZAm-",
   "metadata": {
    "id": "LxAtuESoZAm-"
   },
   "outputs": [],
   "source": [
    "# CREAMOS EL ENCODER\n",
    "# ==================\n",
    "encoder = Dense(10,activation=\"tanh\")(capa_entrada)\n",
    "encoder = Dense(7,activation=\"tanh\")(encoder)\n",
    "encoder = Dense(5,activation=\"tanh\")(encoder)\n",
    "encoder = Dense(4,activation=\"relu\")(encoder)"
   ]
  },
  {
   "cell_type": "code",
   "execution_count": 69,
   "id": "A7lWYxWLZAm-",
   "metadata": {
    "id": "A7lWYxWLZAm-"
   },
   "outputs": [],
   "source": [
    "# CREAMOS EL DECODER\n",
    "# ==================\n",
    "decoder = Dense(5,activation=\"tanh\")(encoder)\n",
    "decoder = Dense(7,activation=\"tanh\")(decoder)\n",
    "decoder = Dense(10,activation=\"tanh\")(decoder)\n",
    "decoder = Dense(14,activation=\"sigmoid\")(decoder)"
   ]
  },
  {
   "cell_type": "code",
   "execution_count": 70,
   "id": "olnHfnAKZAm-",
   "metadata": {
    "id": "olnHfnAKZAm-"
   },
   "outputs": [],
   "source": [
    "# CREAMOS EL AUTOENCODER\n",
    "# =============================\n",
    "autoencoder = Model(inputs=capa_entrada, outputs=decoder)"
   ]
  },
  {
   "cell_type": "code",
   "execution_count": 71,
   "id": "cdDwwsvXZAm-",
   "metadata": {
    "id": "cdDwwsvXZAm-"
   },
   "outputs": [],
   "source": [
    "# CREAMOS LOS SOLVERS Y LOSS FUNCTIONS\n",
    "# ====================================\n",
    "# COMPILA EL AUTOENCODER CON DESCENSO DE GRADIENTE CON ALPHA 0.01 Y LOSS RMSE\n",
    "sgd = SGD(lr=0.01)\n",
    "#adam = Adam(lr=0.01)\n",
    "autoencoder.compile(optimizer=sgd, loss=\"mse\")"
   ]
  },
  {
   "cell_type": "code",
   "execution_count": 72,
   "id": "3iGYh04zZAm-",
   "metadata": {
    "colab": {
     "base_uri": "https://localhost:8080/"
    },
    "id": "3iGYh04zZAm-",
    "outputId": "e3acf8da-9a5c-4263-acc7-63ae06701921"
   },
   "outputs": [
    {
     "name": "stdout",
     "output_type": "stream",
     "text": [
      "Epoch 1/100\n",
      "1430/1430 [==============================] - 3s 2ms/step - loss: 1.1546\n",
      "Epoch 2/100\n",
      "1430/1430 [==============================] - 2s 2ms/step - loss: 1.0465\n",
      "Epoch 3/100\n",
      "1430/1430 [==============================] - 3s 2ms/step - loss: 0.9991\n",
      "Epoch 4/100\n",
      "1430/1430 [==============================] - 3s 2ms/step - loss: 0.9681\n",
      "Epoch 5/100\n",
      "1430/1430 [==============================] - 2s 2ms/step - loss: 0.9463\n",
      "Epoch 6/100\n",
      "1430/1430 [==============================] - 2s 2ms/step - loss: 0.9312\n",
      "Epoch 7/100\n",
      "1430/1430 [==============================] - 2s 2ms/step - loss: 0.9198\n",
      "Epoch 8/100\n",
      "1430/1430 [==============================] - 2s 2ms/step - loss: 0.9105\n",
      "Epoch 9/100\n",
      "1430/1430 [==============================] - 3s 2ms/step - loss: 0.9020\n",
      "Epoch 10/100\n",
      "1430/1430 [==============================] - 3s 2ms/step - loss: 0.8933\n",
      "Epoch 11/100\n",
      "1430/1430 [==============================] - 2s 2ms/step - loss: 0.8753\n",
      "Epoch 12/100\n",
      "1430/1430 [==============================] - 2s 2ms/step - loss: 0.8614\n",
      "Epoch 13/100\n",
      "1430/1430 [==============================] - 2s 2ms/step - loss: 0.8538\n",
      "Epoch 14/100\n",
      "1430/1430 [==============================] - 3s 2ms/step - loss: 0.8476\n",
      "Epoch 15/100\n",
      "1430/1430 [==============================] - 3s 2ms/step - loss: 0.8422\n",
      "Epoch 16/100\n",
      "1430/1430 [==============================] - 2s 2ms/step - loss: 0.8375\n",
      "Epoch 17/100\n",
      "1430/1430 [==============================] - 2s 2ms/step - loss: 0.8334\n",
      "Epoch 18/100\n",
      "1430/1430 [==============================] - 2s 2ms/step - loss: 0.8296\n",
      "Epoch 19/100\n",
      "1430/1430 [==============================] - 3s 2ms/step - loss: 0.8262\n",
      "Epoch 20/100\n",
      "1430/1430 [==============================] - 3s 2ms/step - loss: 0.8230\n",
      "Epoch 21/100\n",
      "1430/1430 [==============================] - 3s 2ms/step - loss: 0.8201\n",
      "Epoch 22/100\n",
      "1430/1430 [==============================] - 2s 2ms/step - loss: 0.8174\n",
      "Epoch 23/100\n",
      "1430/1430 [==============================] - 2s 2ms/step - loss: 0.8148\n",
      "Epoch 24/100\n",
      "1430/1430 [==============================] - 4s 3ms/step - loss: 0.8124\n",
      "Epoch 25/100\n",
      "1430/1430 [==============================] - 4s 2ms/step - loss: 0.8102\n",
      "Epoch 26/100\n",
      "1430/1430 [==============================] - 3s 2ms/step - loss: 0.8080\n",
      "Epoch 27/100\n",
      "1430/1430 [==============================] - 2s 2ms/step - loss: 0.8060\n",
      "Epoch 28/100\n",
      "1430/1430 [==============================] - 2s 2ms/step - loss: 0.8040\n",
      "Epoch 29/100\n",
      "1430/1430 [==============================] - 2s 2ms/step - loss: 0.8022\n",
      "Epoch 30/100\n",
      "1430/1430 [==============================] - 3s 2ms/step - loss: 0.8004\n",
      "Epoch 31/100\n",
      "1430/1430 [==============================] - 3s 2ms/step - loss: 0.7987\n",
      "Epoch 32/100\n",
      "1430/1430 [==============================] - 2s 2ms/step - loss: 0.7971\n",
      "Epoch 33/100\n",
      "1430/1430 [==============================] - 2s 2ms/step - loss: 0.7956\n",
      "Epoch 34/100\n",
      "1430/1430 [==============================] - 2s 2ms/step - loss: 0.7941\n",
      "Epoch 35/100\n",
      "1430/1430 [==============================] - 3s 2ms/step - loss: 0.7927\n",
      "Epoch 36/100\n",
      "1430/1430 [==============================] - 11s 7ms/step - loss: 0.7913\n",
      "Epoch 37/100\n",
      "1430/1430 [==============================] - 11s 7ms/step - loss: 0.7900\n",
      "Epoch 38/100\n",
      "1430/1430 [==============================] - 4s 3ms/step - loss: 0.7887\n",
      "Epoch 39/100\n",
      "1430/1430 [==============================] - 2s 2ms/step - loss: 0.7875\n",
      "Epoch 40/100\n",
      "1430/1430 [==============================] - 2s 2ms/step - loss: 0.7864\n",
      "Epoch 41/100\n",
      "1430/1430 [==============================] - 3s 2ms/step - loss: 0.7852\n",
      "Epoch 42/100\n",
      "1430/1430 [==============================] - 3s 2ms/step - loss: 0.7841\n",
      "Epoch 43/100\n",
      "1430/1430 [==============================] - 2s 2ms/step - loss: 0.7831\n",
      "Epoch 44/100\n",
      "1430/1430 [==============================] - 2s 2ms/step - loss: 0.7820\n",
      "Epoch 45/100\n",
      "1430/1430 [==============================] - 2s 2ms/step - loss: 0.7808\n",
      "Epoch 46/100\n",
      "1430/1430 [==============================] - 3s 2ms/step - loss: 0.7795\n",
      "Epoch 47/100\n",
      "1430/1430 [==============================] - 3s 2ms/step - loss: 0.7780\n",
      "Epoch 48/100\n",
      "1430/1430 [==============================] - 2s 2ms/step - loss: 0.7767\n",
      "Epoch 49/100\n",
      "1430/1430 [==============================] - 2s 2ms/step - loss: 0.7756\n",
      "Epoch 50/100\n",
      "1430/1430 [==============================] - 2s 2ms/step - loss: 0.7745\n",
      "Epoch 51/100\n",
      "1430/1430 [==============================] - 3s 2ms/step - loss: 0.7735\n",
      "Epoch 52/100\n",
      "1430/1430 [==============================] - 3s 2ms/step - loss: 0.7725\n",
      "Epoch 53/100\n",
      "1430/1430 [==============================] - 2s 2ms/step - loss: 0.7715\n",
      "Epoch 54/100\n",
      "1430/1430 [==============================] - 2s 2ms/step - loss: 0.7706\n",
      "Epoch 55/100\n",
      "1430/1430 [==============================] - 2s 2ms/step - loss: 0.7697\n",
      "Epoch 56/100\n",
      "1430/1430 [==============================] - 2s 2ms/step - loss: 0.7687\n",
      "Epoch 57/100\n",
      "1430/1430 [==============================] - 3s 2ms/step - loss: 0.7677\n",
      "Epoch 58/100\n",
      "1430/1430 [==============================] - 3s 2ms/step - loss: 0.7667\n",
      "Epoch 59/100\n",
      "1430/1430 [==============================] - 2s 2ms/step - loss: 0.7656\n",
      "Epoch 60/100\n",
      "1430/1430 [==============================] - 2s 2ms/step - loss: 0.7645\n",
      "Epoch 61/100\n",
      "1430/1430 [==============================] - 2s 2ms/step - loss: 0.7634\n",
      "Epoch 62/100\n",
      "1430/1430 [==============================] - 3s 2ms/step - loss: 0.7622\n",
      "Epoch 63/100\n",
      "1430/1430 [==============================] - 3s 2ms/step - loss: 0.7612\n",
      "Epoch 64/100\n",
      "1430/1430 [==============================] - 2s 2ms/step - loss: 0.7601\n",
      "Epoch 65/100\n",
      "1430/1430 [==============================] - 2s 2ms/step - loss: 0.7591\n",
      "Epoch 66/100\n",
      "1430/1430 [==============================] - 2s 2ms/step - loss: 0.7581\n",
      "Epoch 67/100\n",
      "1430/1430 [==============================] - 2s 2ms/step - loss: 0.7572\n",
      "Epoch 68/100\n",
      "1430/1430 [==============================] - 3s 2ms/step - loss: 0.7562\n",
      "Epoch 69/100\n",
      "1430/1430 [==============================] - 3s 2ms/step - loss: 0.7553\n",
      "Epoch 70/100\n",
      "1430/1430 [==============================] - 2s 2ms/step - loss: 0.7544\n",
      "Epoch 71/100\n",
      "1430/1430 [==============================] - 2s 2ms/step - loss: 0.7535\n",
      "Epoch 72/100\n",
      "1430/1430 [==============================] - 3s 2ms/step - loss: 0.7526\n",
      "Epoch 73/100\n",
      "1430/1430 [==============================] - 3s 2ms/step - loss: 0.7516\n",
      "Epoch 74/100\n",
      "1430/1430 [==============================] - 3s 2ms/step - loss: 0.7507\n",
      "Epoch 75/100\n",
      "1430/1430 [==============================] - 2s 2ms/step - loss: 0.7495\n",
      "Epoch 76/100\n",
      "1430/1430 [==============================] - 2s 2ms/step - loss: 0.7482\n",
      "Epoch 77/100\n",
      "1430/1430 [==============================] - 2s 2ms/step - loss: 0.7467\n",
      "Epoch 78/100\n",
      "1430/1430 [==============================] - 2s 2ms/step - loss: 0.7450\n",
      "Epoch 79/100\n",
      "1430/1430 [==============================] - 3s 2ms/step - loss: 0.7433\n",
      "Epoch 80/100\n",
      "1430/1430 [==============================] - 3s 2ms/step - loss: 0.7416\n",
      "Epoch 81/100\n",
      "1430/1430 [==============================] - 2s 2ms/step - loss: 0.7398\n",
      "Epoch 82/100\n",
      "1430/1430 [==============================] - 2s 2ms/step - loss: 0.7379\n",
      "Epoch 83/100\n",
      "1430/1430 [==============================] - 2s 2ms/step - loss: 0.7361\n",
      "Epoch 84/100\n",
      "1430/1430 [==============================] - 3s 2ms/step - loss: 0.7348\n",
      "Epoch 85/100\n",
      "1430/1430 [==============================] - 3s 2ms/step - loss: 0.7336\n",
      "Epoch 86/100\n",
      "1430/1430 [==============================] - 2s 2ms/step - loss: 0.7327\n",
      "Epoch 87/100\n",
      "1430/1430 [==============================] - 2s 2ms/step - loss: 0.7319\n",
      "Epoch 88/100\n",
      "1430/1430 [==============================] - 2s 2ms/step - loss: 0.7311\n",
      "Epoch 89/100\n",
      "1430/1430 [==============================] - 2s 2ms/step - loss: 0.7304\n",
      "Epoch 90/100\n",
      "1430/1430 [==============================] - 3s 2ms/step - loss: 0.7298\n",
      "Epoch 91/100\n",
      "1430/1430 [==============================] - 3s 2ms/step - loss: 0.7292\n",
      "Epoch 92/100\n",
      "1430/1430 [==============================] - 2s 2ms/step - loss: 0.7287\n",
      "Epoch 93/100\n",
      "1430/1430 [==============================] - 2s 2ms/step - loss: 0.7281\n",
      "Epoch 94/100\n",
      "1430/1430 [==============================] - 2s 2ms/step - loss: 0.7276\n",
      "Epoch 95/100\n",
      "1430/1430 [==============================] - 3s 2ms/step - loss: 0.7271\n",
      "Epoch 96/100\n",
      "1430/1430 [==============================] - 3s 2ms/step - loss: 0.7267\n",
      "Epoch 97/100\n",
      "1430/1430 [==============================] - 2s 2ms/step - loss: 0.7262\n",
      "Epoch 98/100\n",
      "1430/1430 [==============================] - 2s 2ms/step - loss: 0.7258\n",
      "Epoch 99/100\n",
      "1430/1430 [==============================] - 2s 2ms/step - loss: 0.7254\n",
      "Epoch 100/100\n",
      "1430/1430 [==============================] - 2s 2ms/step - loss: 0.7250\n"
     ]
    },
    {
     "data": {
      "text/plain": [
       "<keras.callbacks.History at 0x7fefd37090f0>"
      ]
     },
     "execution_count": 72,
     "metadata": {},
     "output_type": "execute_result"
    }
   ],
   "source": [
    "# ENTRENAMIENTO DEL AUTOENCODER\n",
    "# =============================\n",
    "nits = 100     # número de iteraciones (epochs)\n",
    "tam_lote = 64  # tamaño de cada lote (batch_size)\n",
    "# X_train es dato de entrada y de salida porque se trata de un autoencoder\n",
    "autoencoder.fit(X_train,\n",
    "                X_train, \n",
    "                epochs=nits, \n",
    "                batch_size=tam_lote,\n",
    "                verbose=1)"
   ]
  },
  {
   "cell_type": "code",
   "execution_count": 73,
   "id": "LmZsK1AXZAm_",
   "metadata": {
    "colab": {
     "base_uri": "https://localhost:8080/"
    },
    "id": "LmZsK1AXZAm_",
    "outputId": "b1b59f46-f7f6-47e6-9886-6c1b069de8fa"
   },
   "outputs": [
    {
     "name": "stdout",
     "output_type": "stream",
     "text": [
      "2859/2859 [==============================] - 4s 1ms/step\n"
     ]
    }
   ],
   "source": [
    "X_pred = autoencoder.predict(X_train)"
   ]
  },
  {
   "cell_type": "code",
   "execution_count": 74,
   "id": "giZNmgUdZAm_",
   "metadata": {
    "colab": {
     "base_uri": "https://localhost:8080/"
    },
    "id": "giZNmgUdZAm_",
    "outputId": "628ee2b6-10fc-4850-d969-664c68f1e7c1"
   },
   "outputs": [
    {
     "name": "stdout",
     "output_type": "stream",
     "text": [
      "725/725 [==============================] - 1s 1ms/step\n"
     ]
    },
    {
     "data": {
      "text/plain": [
       "(23198, 14)"
      ]
     },
     "execution_count": 74,
     "metadata": {},
     "output_type": "execute_result"
    }
   ],
   "source": [
    "X_pred_te = autoencoder.predict(X_test)\n",
    "ecm = np.mean(np.power(X_test-X_pred_te,2),axis=1)\n",
    "X_pred_te.shape"
   ]
  },
  {
   "cell_type": "code",
   "execution_count": 77,
   "id": "6XBOQlSrdoiM",
   "metadata": {
    "colab": {
     "base_uri": "https://localhost:8080/"
    },
    "id": "6XBOQlSrdoiM",
    "outputId": "72b31c10-c721-46e7-cbfd-0b88445ae8d6"
   },
   "outputs": [
    {
     "data": {
      "text/plain": [
       "((23198, 14), (23198, 14), (23198,))"
      ]
     },
     "execution_count": 77,
     "metadata": {},
     "output_type": "execute_result"
    }
   ],
   "source": [
    "X_pred_te.shape, X_test.shape, index_x_test.shape"
   ]
  },
  {
   "cell_type": "code",
   "execution_count": 81,
   "id": "8YVOht04dRcZ",
   "metadata": {
    "colab": {
     "base_uri": "https://localhost:8080/"
    },
    "id": "8YVOht04dRcZ",
    "outputId": "749ad611-31ad-4918-9b16-b11b302f6c01"
   },
   "outputs": [
    {
     "name": "stdout",
     "output_type": "stream",
     "text": [
      "[0.99996134 0.99996319 0.99995753 ... 0.99995441 0.9999673  0.99995453]\n",
      "   index     ID  fraud_flag\n",
      "0      0  64707    0.999961\n",
      "1      1  63919    0.999963\n",
      "2      2  15664    0.999958\n",
      "3      3   6626    0.999952\n",
      "4      4  26766    0.999952\n"
     ]
    }
   ],
   "source": [
    "generate_output(X_pred_te, X_test, index_x_test, \"Autoencoder_Final\")"
   ]
  }
 ],
 "metadata": {
  "colab": {
   "provenance": []
  },
  "kernelspec": {
   "display_name": "Python 3 (ipykernel)",
   "language": "python",
   "name": "python3"
  },
  "language_info": {
   "codemirror_mode": {
    "name": "ipython",
    "version": 3
   },
   "file_extension": ".py",
   "mimetype": "text/x-python",
   "name": "python",
   "nbconvert_exporter": "python",
   "pygments_lexer": "ipython3",
   "version": "3.9.10"
  }
 },
 "nbformat": 4,
 "nbformat_minor": 5
}
